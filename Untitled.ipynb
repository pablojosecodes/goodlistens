{
 "cells": [
  {
   "cell_type": "code",
   "execution_count": 1,
   "id": "8b735974",
   "metadata": {},
   "outputs": [],
   "source": [
    "import feedparser\n",
    "\n",
    "# details = \n",
    "# My First Million\n",
    "# id: HS2300184645\n",
    "# rss feed: https://feeds.megaphone.fm/HS2300184645\n",
    "# name: My First Million\n",
    "# image: https://megaphone.imgix.net/podcasts/39846662-79ea-11eb-9b06-a75ddc4bddcc/image/MFM_ShowTile_2024.png\n",
    "# website: https://mfmpod.com\n",
    "# description:  Parr and Shaan Puri brainstorm new business ideas based on trends & opportunities they see in the market. Sometimes they bring on famous guests to brainstorm with them.\n",
    "\n",
    "# Sam \n",
    "     \n",
    "#     rss feed , name, image, website, description\n",
    "# Sam Harriss\n",
    "\n",
    "# NewsFeed = feedparser.parse(\"https://feeds.megaphone.fm/HS2300184645\")\n"
   ]
  },
  {
   "cell_type": "code",
   "execution_count": 12,
   "id": "48961bd9",
   "metadata": {},
   "outputs": [],
   "source": [
    "import os\n",
    "# os.listdir(\"../app\")\n",
    "from app import create_app\n",
    "from app import db, migrate, login\n",
    "from app.models import User, Podcast, Episode\n"
   ]
  },
  {
   "cell_type": "code",
   "execution_count": 13,
   "id": "8e5266f0",
   "metadata": {},
   "outputs": [
    {
     "data": {
      "text/plain": [
       "app.models.Episode"
      ]
     },
     "execution_count": 13,
     "metadata": {},
     "output_type": "execute_result"
    }
   ],
   "source": [
    "Episode"
   ]
  },
  {
   "cell_type": "code",
   "execution_count": 52,
   "id": "5f73df15",
   "metadata": {},
   "outputs": [
    {
     "name": "stdout",
     "output_type": "stream",
     "text": [
      "<class 'app.models.Episode'>\n",
      "<class 'app.models.Episode'>\n",
      "322\n"
     ]
    }
   ],
   "source": [
    "seen = {None}\n",
    "\n",
    "def episode_to_data(episode, db):\n",
    "    data = episode\n",
    "    episodes_da = rss_to_episode(data.rss, data.id)\n",
    "    for i, episode_data in enumerate(episodes_da[1:]):\n",
    "        \n",
    "        if f\"{episode_data.id}{episode_data.title}\" not in seen:\n",
    "            episode = Episode(\n",
    "                id=f\"{episode_data.id}{episode_data.title}\",\n",
    "                date=episode_data.date,\n",
    "                title=episode_data.title,\n",
    "                image=episode_data.image,\n",
    "                duration=episode_data.duration,\n",
    "                description=episode_data.description,\n",
    "                podcast_id=data.id  # Use data.id instead of episode_data.podcast_id\n",
    "            )\n",
    "            print(episode_data)\n",
    "\n",
    "            seen.add(f\"{episode_data.id}{episode_data.title}\")\n",
    "        else:\n",
    "            print(\"alrady seen\")\n",
    "        db.session.add(episode)\n",
    "    \n",
    "    \n",
    "    \n",
    "app = create_app()\n",
    "thing = None\n",
    "print(Episode)\n",
    "with app.app_context():\n",
    "    print(Episode)\n",
    "    \n",
    "    db.create_all()  # Create the tables in the database\n",
    "    \n",
    "    podcasts = Podcast.query.all()\n",
    "#         Episode.query.delete()\n",
    "\n",
    "    s = Episode.query.all()\n",
    "    print(len(Episode.query.all()))\n",
    "#     for data in podcasts:\n",
    "#         episode_to_data(data, db)\n",
    "\n",
    "    db.session.commit()\n"
   ]
  },
  {
   "cell_type": "code",
   "execution_count": null,
   "id": "3bea1c98",
   "metadata": {},
   "outputs": [],
   "source": [
    "thing"
   ]
  },
  {
   "cell_type": "code",
   "execution_count": 34,
   "id": "9698d0c3",
   "metadata": {},
   "outputs": [],
   "source": [
    "from tqdm import tqdm\n",
    "from datetime import datetime\n",
    "from time import mktime\n",
    "from collections import namedtuple\n",
    "from io import StringIO\n",
    "from html.parser import HTMLParser\n",
    "\n",
    "class MLStripper(HTMLParser):\n",
    "    def __init__(self):\n",
    "        super().__init__()\n",
    "        self.reset()\n",
    "        self.strict = False\n",
    "        self.convert_charrefs= True\n",
    "        self.text = StringIO()\n",
    "    def handle_data(self, d):\n",
    "        self.text.write(d)\n",
    "    def get_data(self):\n",
    "        return self.text.getvalue()\n",
    "\n",
    "def strip_tags(html):\n",
    "    s = MLStripper()\n",
    "    s.feed(html)\n",
    "    return s.get_data()\n",
    "\n",
    "ep = namedtuple(\"Ep\", (\"id\", \"date\", \"title\", \"image\", \"duration\", \"description\", \"podcast_id\"))\n"
   ]
  },
  {
   "cell_type": "code",
   "execution_count": null,
   "id": "bdf7bb49",
   "metadata": {},
   "outputs": [],
   "source": []
  },
  {
   "cell_type": "code",
   "execution_count": 33,
   "id": "d60db1e0",
   "metadata": {},
   "outputs": [],
   "source": [
    "def rss_to_episode(rss, podcast_id):\n",
    "    NewsFeed = feedparser.parse(\"https://rss.art19.com/sean-carrolls-mindscape\")\n",
    "\n",
    "    \n",
    "    episodes = NewsFeed.entries\n",
    "\n",
    "    response = []\n",
    "    for thing in tqdm(episodes):\n",
    "        title = thing['title']\n",
    "        id = thing['id']\n",
    "        if (\"image\" in thing):\n",
    "            image = thing['image']['href']\n",
    "        description = strip_tags(thing['summary'])\n",
    "        date = datetime.fromtimestamp(mktime(thing['published_parsed']))\n",
    "        podcast_id = podcast_id\n",
    "        duration = thing['itunes_duration']\n",
    "        episode = ep(id, date, title, image, duration, description, podcast_id)\n",
    "\n",
    "        response.append(episode)\n",
    "    \n",
    "    return response"
   ]
  },
  {
   "cell_type": "code",
   "execution_count": null,
   "id": "2dce7f54",
   "metadata": {},
   "outputs": [],
   "source": []
  },
  {
   "cell_type": "code",
   "execution_count": null,
   "id": "c4504f8d",
   "metadata": {},
   "outputs": [],
   "source": []
  },
  {
   "cell_type": "code",
   "execution_count": 17,
   "id": "c9161a08",
   "metadata": {},
   "outputs": [
    {
     "name": "stderr",
     "output_type": "stream",
     "text": [
      "100%|███████████████████████████████████████| 323/323 [00:00<00:00, 6405.06it/s]\n"
     ]
    }
   ],
   "source": [
    "thing = rss_to_episode(\"https://feeds.megaphone.fm/HS2300184645\", 0)"
   ]
  },
  {
   "cell_type": "code",
   "execution_count": 22,
   "id": "ece82074",
   "metadata": {},
   "outputs": [
    {
     "data": {
      "text/plain": [
       "('id', 'date', 'title', 'image', 'duration', 'description', 'podcast_id')"
      ]
     },
     "execution_count": 22,
     "metadata": {},
     "output_type": "execute_result"
    }
   ],
   "source": [
    "thing[2]._fields"
   ]
  },
  {
   "cell_type": "code",
   "execution_count": 38,
   "id": "6ff77c70",
   "metadata": {},
   "outputs": [
    {
     "data": {
      "text/plain": [
       "dict_keys(['title', 'title_detail', 'summary', 'summary_detail', 'itunes_title', 'itunes_episodetype', 'itunes_episode', 'content', 'id', 'guidislink', 'published', 'published_parsed', 'itunes_explicit', 'image', 'tags', 'itunes_duration', 'links'])"
      ]
     },
     "execution_count": 38,
     "metadata": {},
     "output_type": "execute_result"
    }
   ],
   "source": [
    "\n",
    "\n",
    "\n",
    "# \n",
    "# title = \n",
    "\n",
    "thing.keys()\n",
    "\n",
    "# entry = NewsFeed.entries[1]\n",
    "# print 'Post Title :',entry.title\n",
    "\n",
    "# # https://feeds.megaphone.fm/HS2300184645"
   ]
  },
  {
   "cell_type": "code",
   "execution_count": 7,
   "id": "0688d7b1",
   "metadata": {},
   "outputs": [],
   "source": [
    "entry_one = NewsFeed.entries[0]"
   ]
  },
  {
   "cell_type": "code",
   "execution_count": 18,
   "id": "40e7706a",
   "metadata": {},
   "outputs": [
    {
     "data": {
      "text/plain": [
       "dict_keys(['title', 'title_detail', 'summary', 'summary_detail', 'itunes_title', 'itunes_episodetype', 'itunes_episode', 'content', 'id', 'guidislink', 'published', 'published_parsed', 'itunes_explicit', 'image', 'tags', 'itunes_duration', 'links'])"
      ]
     },
     "execution_count": 18,
     "metadata": {},
     "output_type": "execute_result"
    }
   ],
   "source": [
    "entry_one.keys()"
   ]
  },
  {
   "cell_type": "code",
   "execution_count": 7,
   "id": "d4613ffd",
   "metadata": {},
   "outputs": [
    {
     "data": {
      "text/plain": [
       "dict_keys(['title', 'title_detail', 'summary', 'summary_detail', 'published', 'published_parsed', 'itunes_episodetype', 'authors', 'author', 'author_detail', 'subtitle', 'subtitle_detail', 'content', 'itunes_duration', 'id', 'guidislink', 'links'])"
      ]
     },
     "execution_count": 7,
     "metadata": {},
     "output_type": "execute_result"
    }
   ],
   "source": [
    "entry_one.keys()[]"
   ]
  },
  {
   "cell_type": "code",
   "execution_count": 8,
   "id": "9530fe92",
   "metadata": {},
   "outputs": [
    {
     "data": {
      "text/plain": [
       "'gid://art19-episode-locator/V0/gjB_D4C9esV3jlRb5BVqh9CatUySfcJn42XesMY4MyM'"
      ]
     },
     "execution_count": 8,
     "metadata": {},
     "output_type": "execute_result"
    }
   ],
   "source": [
    "entry_one['id']"
   ]
  },
  {
   "cell_type": "code",
   "execution_count": 19,
   "id": "0a398a4b",
   "metadata": {},
   "outputs": [
    {
     "data": {
      "text/plain": [
       "'275 | Solo: Quantum Fields, Particles, Forces, and Symmetries'"
      ]
     },
     "execution_count": 19,
     "metadata": {},
     "output_type": "execute_result"
    }
   ],
   "source": [
    "entry_one['title']"
   ]
  },
  {
   "cell_type": "code",
   "execution_count": 9,
   "id": "9ac73988",
   "metadata": {},
   "outputs": [
    {
     "data": {
      "text/plain": [
       "dict_keys(['bozo', 'entries', 'feed', 'headers', 'updated', 'updated_parsed', 'href', 'status', 'encoding', 'version', 'namespaces'])"
      ]
     },
     "execution_count": 9,
     "metadata": {},
     "output_type": "execute_result"
    }
   ],
   "source": [
    "NewsFeed.keys()"
   ]
  },
  {
   "cell_type": "code",
   "execution_count": 11,
   "id": "a7c3491b",
   "metadata": {},
   "outputs": [
    {
     "data": {
      "text/plain": [
       "False"
      ]
     },
     "execution_count": 11,
     "metadata": {},
     "output_type": "execute_result"
    }
   ],
   "source": [
    "NewsFeed['bozo']"
   ]
  },
  {
   "cell_type": "code",
   "execution_count": null,
   "id": "57e67e68",
   "metadata": {},
   "outputs": [],
   "source": []
  }
 ],
 "metadata": {
  "kernelspec": {
   "display_name": "Python 3 (ipykernel)",
   "language": "python",
   "name": "python3"
  },
  "language_info": {
   "codemirror_mode": {
    "name": "ipython",
    "version": 3
   },
   "file_extension": ".py",
   "mimetype": "text/x-python",
   "name": "python",
   "nbconvert_exporter": "python",
   "pygments_lexer": "ipython3",
   "version": "3.11.7"
  }
 },
 "nbformat": 4,
 "nbformat_minor": 5
}
